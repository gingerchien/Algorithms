{
  "nbformat": 4,
  "nbformat_minor": 0,
  "metadata": {
    "colab": {
      "provenance": [],
      "authorship_tag": "ABX9TyPApWQSmCmxyvzM8bRm5G//",
      "include_colab_link": true
    },
    "kernelspec": {
      "name": "python3",
      "display_name": "Python 3"
    },
    "language_info": {
      "name": "python"
    }
  },
  "cells": [
    {
      "cell_type": "markdown",
      "metadata": {
        "id": "view-in-github",
        "colab_type": "text"
      },
      "source": [
        "<a href=\"https://colab.research.google.com/github/gingerchien/Algorithms/blob/main/DPVchapter6.ipynb\" target=\"_parent\"><img src=\"https://colab.research.google.com/assets/colab-badge.svg\" alt=\"Open In Colab\"/></a>"
      ]
    },
    {
      "cell_type": "markdown",
      "source": [
        "### **6.1 Max Sum of String (Contiguous Subsequence)**\n",
        "\n",
        "\"\"\"\n",
        " A contiguous subsequence of a list S is a subsequence made up of consecutive elements of S. For\n",
        "instance, if S is:\n",
        "    5. 15, -30, 10, -5, 40, 10\n",
        "then 15, -30, 10 is a contiguous subsequence but 5, 15, 40 is not. Give a linear time algorithm for\n",
        "the following task:\n",
        "    Input: A list of numbers, a1, a2, ..., an\n",
        "    Output: The contiguous subsequence of maximum sum (a subsequence of length zero has sum zero)\n",
        "For the preceeding example, the answer would be 10, -5, 40, 10, with a sum of 55.\n",
        "(Hint: For each j E{1, 2, ..., n}, consider contiguous subsequences ending exactly at position j.)\n",
        "\"\"\"\n",
        "\n",
        "\"\"\"\n",
        "v1: Returns the contiguous subsequence with maximum sum.\n",
        "\"\"\""
      ],
      "metadata": {
        "id": "9H1vZCKuhgen"
      }
    },
    {
      "cell_type": "markdown",
      "source": [
        "\n",
        "**1) Subproblem Definition:**\n",
        "\n",
        "Let T(i) = the maximum sum achieved for the subsequence ending at ai\n",
        "\n",
        "* Note that since our subsequence is contiguous, the table entry includes the value of the number for the current index - this is an inclusive prefix.Our final answer will be the maximum value found in T(·)\n",
        "\n",
        "**2) Recurrence for the Table in Terms of Smaller Subproblems**\n",
        "\n",
        "Our base case reflects the problem definition, the empty set has a maximum sum of zero: T(0) = 0\n",
        "\n",
        "Now, consider what happens at each element in S. If the previous sum is <0, we want to restart our sequence; if the previous sum is >0, the maximum sum achievable must include the prior position. Thus we have:\n",
        "\n",
        "T(i) = ai+ max (0, T (i−1)) ∀1≤i≤n\n",
        "\n",
        "**3a) Pseudocode for max Sum:**\n",
        "\n",
        "<p>T(0) = 0</p>\n",
        "\n",
        "\n",
        "<p>for i= 1 to n do</p>\n",
        "<blockquote>\n",
        "    <p>T(i) = ai+ max (0, T (i−1))</p>\n",
        "</blockquote>\n",
        "<p>return max(T(·))</p>\n",
        "\n",
        "**3b) Pseudocode for the string with max sum:**\n",
        "<blockquote>\n",
        "<p>T(0) = 0</p>\n",
        "<p>B(0) = 0</p>\n",
        "<p>for i= 1 to n do</p>\n",
        "<blockquote>\n",
        "       <p>if T(i−1) >0</p>\n",
        "       <blockquote>\n",
        "       <p>T(i) = ai+T(i−1)</p>\n",
        "       <p>B(i) = B(i−1)</p>\n",
        "    </blockquote>\n",
        "    <p>else</p>\n",
        "    <blockquote>\n",
        "       <p>T(i) = ai</p>\n",
        "       <p>B(i) = i</p>\n",
        "       </blockquote>\n",
        "</blockquote>\n",
        "<p>maxvalue = 0</p>\n",
        "<p>maxindex = 0</p>\n",
        "<p>for i= 1 to n do</p>\n",
        "<blockquote>\n",
        "    if T(i)> maxvalue\n",
        "</blockquote>\n",
        "    <blockquote>\n",
        "       <p>maxindex =i</p>\n",
        "       <p>maxvalue =T(i)</p>\n",
        "    </blockquote>\n",
        "<p>return T[B(maxindex). . . maxindex]</p>\n",
        "\n",
        "\n",
        "**4) Runtime Analysis**\n",
        "<p>In both examples we have one loop through ninputs to set the tablevalues, and a second loop to find the max. Overall run time is linear O(n).</p>"
      ],
      "metadata": {
        "id": "z57bP6AKieEH"
      }
    },
    {
      "cell_type": "code",
      "source": [
        "\"\"\"\n",
        "a: Returns only the sum of the contiguous subsequence with maximum sum\n",
        "\"\"\"\n",
        "def contiguous_subseq_max_sum_2(a):\n",
        "    S = [ 0 for i in a ]\n",
        "    for i in range(len(a)):\n",
        "        S[i] = max(S[i], a[i] + S[i - 1])\n",
        "\n",
        "    max_ = 0\n",
        "    for i in range(len(a)):\n",
        "        if S[i] > S[max_]:\n",
        "            max_ = i\n",
        "\n",
        "    return S[max_]"
      ],
      "metadata": {
        "id": "oeaoNsQmh5oE"
      },
      "execution_count": 11,
      "outputs": []
    },
    {
      "cell_type": "code",
      "source": [
        "\"\"\"\n",
        "b: Returns the contiguous subsequence with maximum sum.\n",
        "\"\"\"\n",
        "def contiguous_subseq_max_sum_1(a):\n",
        "    S = [ 0 for i in a ]\n",
        "    l = [ 0 for i in a ]\n",
        "    for i in range(len(a)):\n",
        "        if a[i] + S[i - 1] > a[i]:\n",
        "            S[i] = a[i] + S[i - 1]\n",
        "            l[i] = l[i - 1]\n",
        "        else:\n",
        "            S[i] = a[i]\n",
        "            l[i] = i\n",
        "\n",
        "    max = 0\n",
        "    for i in range(len(a)):\n",
        "        if S[i] > S[max]:\n",
        "            max = i\n",
        "\n",
        "    return a[l[i]:max+1]"
      ],
      "metadata": {
        "id": "Bq6X7yeGhyA-"
      },
      "execution_count": 12,
      "outputs": []
    },
    {
      "cell_type": "code",
      "source": [
        "if __name__ == \"__main__\":\n",
        "    a = [ 5, 15, -30, 10, -5, 40, 10 ]\n",
        "    s = contiguous_subseq_max_sum_1(a)\n",
        "    print('Contiguous subsequence with max sum => %s' % s)\n",
        "    sum = contiguous_subseq_max_sum_2(a)\n",
        "    print('Max sum => %s' % sum)"
      ],
      "metadata": {
        "colab": {
          "base_uri": "https://localhost:8080/"
        },
        "id": "yb6HrgtWh9MA",
        "outputId": "06410a9d-6431-41a7-af23-359e0f00987c"
      },
      "execution_count": 13,
      "outputs": [
        {
          "output_type": "stream",
          "name": "stdout",
          "text": [
            "Contiguous subsequence with max sum => [10, -5, 40, 10]\n",
            "Max sum => 55\n"
          ]
        }
      ]
    },
    {
      "cell_type": "code",
      "source": [],
      "metadata": {
        "id": "LZ_QrR3Fh-tv"
      },
      "execution_count": 13,
      "outputs": []
    },
    {
      "cell_type": "markdown",
      "source": [
        "### **6.2 Minimizing Penalty Hotel Stops**\n",
        "You are going on a long trip. You start on the road at mile post 0. Along the way there are n\n",
        "hotels, at mile posts a1 < a2 < ... < an, where each ai is measured from the starting point. The\n",
        "only places you are allowed to stop are at these hotels, but you can choose which of the hotels you\n",
        "stop at. You must stop at the final hotel (at distance an), which is your destination.\n",
        "\n",
        "You'd ideally like to travel 200 miles a day, but this may not be possible (depending on the spacing\n",
        "of the hotels). If you travel x miles during a day, the penalty for that day is (200 - x)^2. You\n",
        "want to plan your trip so as to minimize the total penalty - that is, the sum, over all travel days,\n",
        "of the daily penalties. Give an efficient algorithm that determines the optimal sequence of hotels\n",
        "at which to stop"
      ],
      "metadata": {
        "id": "CLyApXrZpwto"
      }
    },
    {
      "cell_type": "markdown",
      "source": [
        "**1) Subproblem Definition:**\n",
        "<p> Let T(j) be the minimum penalty incurred up to location aj, including aj.</p>\n",
        "\n",
        "**2) Recurrence:**\n",
        "<p> Suppose we stop at aj. The previous stop is some ai, where i < j (or maybe aj is the very first stop). Trying all possibilities for ai:</p>\n",
        "\n",
        "<p> Base Case: T(0) = 0 and ao=0</p>\n",
        "<p>T(j) = min {T(i) + (200 - (aj-ai))^2}, where 0 ≤ i < j</p>\n",
        "\n",
        "**3) Pseudocode:**\n",
        "\n",
        "\n",
        "<p>For j = 1 to n do</p>\n",
        "  <blockquote>\n",
        "  <p>T(j) = (200 - aj)^2</p>\n",
        "  </blockquote>\n",
        "  <blockquote>\n",
        "  <p>For i = 1 to j - 1:\n",
        "  </blockquote>\n",
        "  <blockquote>\n",
        "  <blockquote>\n",
        "  <p>T(j) = min{T(j), T(i) + (200 - (aj - ai))^2}</p>\n",
        "  </blockquote>\n",
        "  </blockquote>\n",
        "<p>Return T(n)</p>\n",
        "\n",
        "**4) Running Time:**\n",
        "<p>2 for loops is O(n^2)</p>"
      ],
      "metadata": {
        "id": "RyvtHpC0MBjd"
      }
    },
    {
      "cell_type": "code",
      "source": [
        "import sys\n",
        "def hotel_stops_min_penalty(a):\n",
        "    # Let's define a0 = starting position = 0\n",
        "    a_ = a[:]\n",
        "    a_.insert(0, 0)\n",
        "    P = [ 0 for x in a_ ]\n",
        "    # Previous stop that minimizes the penalty at each mile stop\n",
        "    s = [ 0 for x in a_ ]\n",
        "    for i in range(1, len(a_), 1):\n",
        "        P[i] = sys.maxsize # initialize to infinity\n",
        "        for j in range(i):\n",
        "            # If we don't care about the actual stops, we can just use min as below\n",
        "            # P[i] = min(P[i], P[j] + (200 - (a[i] - a[j])) ** 2)\n",
        "\n",
        "            # Keep track of the previous stop that minimizes penalty at mile post i\n",
        "            p = P[j] + (200 - (a_[i] - a_[j])) ** 2\n",
        "            if p < P[i]:\n",
        "                s[i] = j\n",
        "                P[i] = p\n",
        "\n",
        "    stops = []\n",
        "    k = i\n",
        "    while k > 0:\n",
        "        stops.append(k)\n",
        "        k = s[k]\n",
        "\n",
        "    return (P[i], stops[::-1])\n",
        "\n",
        "\n",
        "if __name__ == \"__main__\":\n",
        "    # Another implementation in Java: https://github.com/iamprem/algorithms/blob/master/Hotel.java\n",
        "    a = [ 190, 420, 550, 660, 670 ]\n",
        "    p, s = hotel_stops_min_penalty(a)\n",
        "    print('Stops=[%s], Minimum penalty = %d, sequence = %s' % (a, p, s))\n",
        "\n",
        "    a = [ 10, 200, 270, 430, 500 ]\n",
        "    p, s = hotel_stops_min_penalty(a)\n",
        "    print('Stops=[%s], Minimum penalty = %d, sequence = %s' % (a, p, s))"
      ],
      "metadata": {
        "colab": {
          "base_uri": "https://localhost:8080/"
        },
        "id": "6trPoDQ6p3fE",
        "outputId": "c762fd2f-2af6-4440-a7bd-1f31653c4d77"
      },
      "execution_count": 8,
      "outputs": [
        {
          "output_type": "stream",
          "name": "stdout",
          "text": [
            "Stops=[[190, 420, 550, 660, 670]], Minimum penalty = 3500, sequence = [1, 2, 5]\n",
            "Stops=[[10, 200, 270, 430, 500]], Minimum penalty = 5800, sequence = [3, 5]\n"
          ]
        }
      ]
    },
    {
      "cell_type": "code",
      "source": [],
      "metadata": {
        "id": "F7czE7nJMAgJ"
      },
      "execution_count": null,
      "outputs": []
    },
    {
      "cell_type": "markdown",
      "source": [
        "### **6.3 Yuckdonald's Restaurant Openings: Maximizing Expected Total Profit**\n",
        "Yuckdonald's is considering open a series of restaurants along Quant Valley Highway (QVH). The\n",
        "n possible locations are along a straight line, and the distances of these locations are along a\n",
        "straight line, and the distance of these locations from the start of QVH are, in miles and in\n",
        "increasing order, m1, m2, ..., mn. The constraints are as follows:\n",
        "\n",
        "* At each location, Yuckdonald's may open at most one restaurant. The expected profit from opening\n",
        "  a restaurant at location i is pi, where pi > 0 and i = 1, 2, ..., n.\n",
        "* Any two restaurants should be at least k miles apart, where k is a positive integer.\n",
        "\n",
        "Give an efficient algorithm to compute the maximum expected total profit subject to the given\n",
        "constraints."
      ],
      "metadata": {
        "id": "crazDzurWseb"
      }
    },
    {
      "cell_type": "markdown",
      "source": [
        "**1) Subproblem Definition:**\n",
        "<p>Let P(i) = maximum profit from opening series of restaurants, at n locations, with each restaurant location at least k miles apart from each other, where 0 < i ≤ n. </p>\n",
        "\n",
        "**2) Recurrence:**\n",
        "<p> Base Case: P(1) = 1</p>\n",
        "<p> P(i) = max{P(i), pi + P(j)}, where 1 ≤ j < i < n </p>\n",
        "\n",
        "**3)Pseudocode:**\n",
        "<blockquote>\n",
        "<p>P(1) = p1</p>\n",
        "<p>for i from 2 to n</p>\n",
        "<blockquote>\n",
        "<p>P(i) = pi  </p>\n",
        "<p>for  j from 1 to i-1</p>\n",
        "<blockquote>\n",
        "<p>if (mi-mj)>=k</p>\n",
        "<blockquote>\n",
        "<p>P(i)= max{P(i), P(j) + pi)\n",
        "</blockquote>\n",
        "</blockquote>\n",
        "</blockquote>\n",
        "<p>Return max(P(*))\n",
        "</blockquote>\n",
        "\n",
        "**4)Runtime:**\n",
        "The double for loop makes this O(n^2) time\n",
        "\n"
      ],
      "metadata": {
        "id": "8LVgIeRTXkZP"
      }
    },
    {
      "cell_type": "code",
      "source": [
        "def yuckdonalds(m, p, k):\n",
        "    # Start from 0 for convenience\n",
        "    # is the maximum profit at each location, initialize to be the profit at each location\n",
        "    T = [ 0 for p_ in p ]\n",
        "    for i in range(len(m)):\n",
        "        T[i] = p[i]\n",
        "        for j in range(i - 1):\n",
        "            if (m[i] - m[j]) >= k:\n",
        "                T[i] = max(T[i], p[i] + T[j])\n",
        "\n",
        "        # Final maximum profit is the maximum when there is a restaurant at i and maximum profit\n",
        "        # when there is no restaurant at position i, given recursively by T[i-1]\n",
        "        T[i] = max(T[i], T[i-1])\n",
        "\n",
        "    return T[len(m)-1]\n",
        "\"\"\"\n",
        "Another version:\n",
        "    Here T(i) is the maximum total profit when there is a restaurant at location i.\n",
        "    For this version, we need to perform one more iteration to find at which location where there\n",
        "    is a restaurant the total expected profit is maximum\n",
        "\"\"\"\n",
        "\"\"\"\n",
        "def yuckdonalds(m, p, k):\n",
        "    # Start from 0 for convenience\n",
        "    # is the maximum profit at each location, initialize to be the profit at each location\n",
        "    T = [ 0 for p_ in p ]\n",
        "    for i in range(len(m)):\n",
        "        T[i] = p[i]\n",
        "        for j in range(i - 1):\n",
        "            if (m[i] - m[j]) >= k:\n",
        "                T[i] = max(T[i], p[i] + T[j])\n",
        "\n",
        "    max_ = 0\n",
        "    for i in range(len(m)):\n",
        "        if T[i] > T[max_]:\n",
        "            max_ = i\n",
        "    return T[max_]\n",
        "\"\"\"\n",
        "\n",
        "\n",
        "if __name__ == \"__main__\":\n",
        "    m = [ 0, 5, 6, 11, 14, 20, 22, 28 ];\n",
        "    p = [ 30, 10, 40, 1, 15, 5, 23, 17 ];\n",
        "    k = 5;\n",
        "    print('m=%s p=%s k=%s' % (m, p, k))\n",
        "    p_ = yuckdonalds(m, p, k)\n",
        "    print('Maximum total profit = %d' % p_)\n",
        "\n",
        "    m = [ 1, 10, 16, 21, 22, 35, 38 ]\n",
        "    p = [ 30, 9, 13, 25, 23, 3, 10 ]\n",
        "    k = 10\n",
        "    print('m=%s p=%s k=%s' % (m, p, k))\n",
        "    p_ = yuckdonalds(m, p, k)\n",
        "    print('Maximum total profit = %d' % p_)\n",
        "\n",
        "    # Greedy approach (which assumes a restaurant at location i) will fail this case (correct\n",
        "    # answer is 400)\n",
        "    m = [ 10, 20, 25, 30, 40 ];\n",
        "    p = [ 100, 100, 101, 100, 100 ];\n",
        "    k = 10;\n",
        "    print('m=%s p=%s k=%s' % (m, p, k))\n",
        "    p_ = yuckdonalds(m, p, k)\n",
        "    print('Maximum total profit = %d' % p_)\n",
        "\n",
        "    # Corner case, the return should be 42 and not 41\n",
        "    m = [ 0, 4, 8 ];\n",
        "    p = [ 10, 42, 31 ];\n",
        "    k = 5;\n",
        "    print('m=%s p=%s k=%s' % (m, p, k))\n",
        "    p_ = yuckdonalds(m, p, k)\n",
        "    print('Maximum total profit = %d' % p_)"
      ],
      "metadata": {
        "colab": {
          "base_uri": "https://localhost:8080/"
        },
        "id": "RNjGiD8wW4IE",
        "outputId": "dbc8a00e-c729-4b05-af1e-74ea0fb0f0b2"
      },
      "execution_count": 10,
      "outputs": [
        {
          "output_type": "stream",
          "name": "stdout",
          "text": [
            "m=[0, 5, 6, 11, 14, 20, 22, 28] p=[30, 10, 40, 1, 15, 5, 23, 17] k=5\n",
            "Maximum total profit = 108\n",
            "m=[1, 10, 16, 21, 22, 35, 38] p=[30, 9, 13, 25, 23, 3, 10] k=10\n",
            "Maximum total profit = 65\n",
            "m=[10, 20, 25, 30, 40] p=[100, 100, 101, 100, 100] k=10\n",
            "Maximum total profit = 301\n",
            "m=[0, 4, 8] p=[10, 42, 31] k=5\n",
            "Maximum total profit = 42\n"
          ]
        }
      ]
    },
    {
      "cell_type": "code",
      "source": [],
      "metadata": {
        "id": "XGfAI_8SXaOZ"
      },
      "execution_count": null,
      "outputs": []
    }
  ]
}