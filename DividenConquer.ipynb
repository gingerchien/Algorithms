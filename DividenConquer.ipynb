{
  "nbformat": 4,
  "nbformat_minor": 0,
  "metadata": {
    "colab": {
      "provenance": [],
      "authorship_tag": "ABX9TyP7snrg7kdEWG9RnQXMeK/H",
      "include_colab_link": true
    },
    "kernelspec": {
      "name": "python3",
      "display_name": "Python 3"
    },
    "language_info": {
      "name": "python"
    }
  },
  "cells": [
    {
      "cell_type": "markdown",
      "metadata": {
        "id": "view-in-github",
        "colab_type": "text"
      },
      "source": [
        "<a href=\"https://colab.research.google.com/github/gingerchien/Algorithms/blob/main/DividenConquer.ipynb\" target=\"_parent\"><img src=\"https://colab.research.google.com/assets/colab-badge.svg\" alt=\"Open In Colab\"/></a>"
      ]
    },
    {
      "cell_type": "markdown",
      "source": [
        "\n",
        "# Divide and Conquer Algoritm Whiteboxes"
      ],
      "metadata": {
        "id": "qZoONwjwLxBw"
      }
    },
    {
      "cell_type": "markdown",
      "source": [
        "## Karatsuba Fast Integer Multiplication\n",
        "<pre>\n",
        "\n",
        "# Input:\n",
        "#   x, y: n-bit positive integers\n",
        "# Output:\n",
        "#   Their product\n",
        "\n",
        "func multiply(x, y):\n",
        "  if n == 1:\n",
        "    return xy\n",
        "\n",
        "  xl, xr = leftmost ⌈n/2⌉, rightmost ⌊n/2⌋ bits of x\n",
        "  yl, yr = leftmost ⌈n/2⌉, rightmost ⌊n/2⌋ bits of y\n",
        "\n",
        "  # T(n) = 3T(n/2) + O(n) = O(n^(log 3))\n",
        "  P1 = multiply(xl, yl)\n",
        "  P2 = multiply(xr, yr)\n",
        "  P3 = multiply(xl + xr, yl + yr)\n",
        "\n",
        "  return (2^n P1 + 2^(n/2) (P3 - P1 - P2) + P2)\n",
        "\n",
        "  </pre>"
      ],
      "metadata": {
        "id": "u18Ety8gLsW6"
      }
    },
    {
      "cell_type": "markdown",
      "source": [
        "## Mergesort\n",
        "<pre>\n",
        "# Input:\n",
        "#   a[1 : n]: An array of numbers\n",
        "# Output:\n",
        "#   Its sorted version\n",
        "\n",
        "func mergesort(a[1 : n]):\n",
        "  if n > 1:\n",
        "    return merge(mergesort(a[1 : ⌊n/2⌋]), mergesort(a[⌊n/2⌋ + 1 : n])) # T(n) = 2T(n/2) ...\n",
        "  else:\n",
        "    return a\n",
        "\n",
        "# ... + O(n) = O(n log n)\n",
        "func merge(x[1 : k], y[1 : l]):\n",
        "  if k == 0:\n",
        "    return y[:]\n",
        "  if l == 0:\n",
        "    return x[:]\n",
        "\n",
        "  if x[1] <= y[1]:\n",
        "    return x[1] ++ merge(x[2 : k], y[1 : l])\n",
        "  else:\n",
        "    return y[1] ++ merge(x[1 : k], y[2 : l])\n",
        "\n",
        "</pre>"
      ],
      "metadata": {
        "id": "r9WYBXYGL_yk"
      }
    },
    {
      "cell_type": "markdown",
      "source": [
        "## Iterative Mergesort\n",
        "\n",
        "<pre>\n",
        "\n",
        "# Input:\n",
        "#   a[1 : n]: Elements to be sorted\n",
        "# Output:\n",
        "#   Sorted elements\n",
        "\n",
        "# Also O(n log n)\n",
        "func imergesort(a[1 : n]):\n",
        "  Q = [] # empty queue\n",
        "\n",
        "  for i = 1 to n:\n",
        "    Q.enqueue(a[i])\n",
        "\n",
        "  while (|Q| > 1):\n",
        "    Q.enqueue(merge(Q.dequeue(), Q.dequeue()))\n",
        "\n",
        "  return (Q.dequeue())\n",
        "\n",
        "</pre>"
      ],
      "metadata": {
        "id": "Q5VBvmr-MIeV"
      }
    },
    {
      "cell_type": "markdown",
      "source": [
        "## BFPRT Median of Medians (Linear-Time Median)\n",
        "<pre>\n",
        "func fastSelect(A, k): # unsorted A, 1 <= k <= n => kth smallest element of A\n",
        "  # Split into groups: O(n)\n",
        "  G[1], ... , G[n/5] = Break A into ⌈n/5⌉ groups of 5 elements each # Easiest: Sequentially take blocks of 5 elements into each group\n",
        "\n",
        "  # Select representatives: O(1) per group = O(n)\n",
        "  for i = 1 to n/5:\n",
        "    sort(G[i])\n",
        "    m[i] = median(G[i])\n",
        "\n",
        "  # median of medians: T(n/5)\n",
        "  S = { m[1], ... , m[n/5] }\n",
        "  p = fastSelect(S, n/10) # median of n/5: (n/5)/2\n",
        "\n",
        "  # Partitioning A with p: O(n)\n",
        "  Partition A into (A < p), (A = p), (A > p) # sizes l, e, and g as before\n",
        "\n",
        "  if k <= l: # <= T(3n/4)\n",
        "    fastSelect((A < p), k)\n",
        "  elif l < k <= (l + e): # O(1)\n",
        "    return p\n",
        "  elif k > (l + e): # <= T(3n/4)\n",
        "    fastSelect((A > p), k - (l + e)) # scaled k\n",
        "</pre>"
      ],
      "metadata": {
        "id": "379oCi3sMSTU"
      }
    },
    {
      "cell_type": "markdown",
      "source": [
        "## Strassen Matrix Multiplication\n",
        "<pre>\n",
        "# Input:\n",
        "#   A, B: n x n matrices\n",
        "# Output:\n",
        "#   Their product\n",
        "\n",
        "func strassen(A, B):\n",
        "  if size < threshold:\n",
        "    calculate AB using the vanilla matrix multiplication algorithm\n",
        "  else:\n",
        "    divide A, B into quadrants\n",
        "\n",
        "    #  [ A11  A12 ]  [ B11  B12 ]\n",
        "    #  [ A21  A22 ]  [ B21  B22 ]\n",
        "\n",
        "    S1 = A11 + A22\n",
        "    S2 = B11 + B22\n",
        "    S3 = A21 + A22\n",
        "    S4 = B12 - B22\n",
        "    S5 = B21 - B11\n",
        "    S6 = A11 + A12\n",
        "    S7 = A21 - A11\n",
        "    S8 = B11 + B12\n",
        "    S9 = A12 - A22\n",
        "    S10 = B21 + B22\n",
        "\n",
        "    # T(n) = 7T(n/2) ...\n",
        "    M1 = strassen(S1, S2)\n",
        "    M2 = strassen(S3, B11)\n",
        "    M3 = strassen(A11, S4)\n",
        "    M4 = strassen(A22, S5)\n",
        "    M5 = strassen(S6, B22)\n",
        "    M6 = strassen(S7, S8)\n",
        "    M7 = strassen(S9, S10)\n",
        "\n",
        "    # ... + O(n^2) = O(n^(log 7))\n",
        "    # submatrices of C\n",
        "    C11 = M1 + M4 - M5 + M7\n",
        "    C12 = M3 + M5\n",
        "    C21 = M2 + M4\n",
        "    C22 = M1 - M2 + M3 + M6\n",
        "\n",
        "    return [[C11, C12], [C21, C22]]\n",
        "</pre>"
      ],
      "metadata": {
        "id": "PeTrBEEhMbwz"
      }
    },
    {
      "cell_type": "markdown",
      "source": [
        "## Fast Fourier Transform\n",
        "<pre>\n",
        "# Input:\n",
        "#   a[0 : n - 1] for some n = 2^k\n",
        "#   ω: A primitive nth root of unity\n",
        "# Output:\n",
        "#   M_n(ω) a, a Vandermonde matrix times the vector a\n",
        "\n",
        "func fft(A, B):\n",
        "  if (ω == 1):\n",
        "    return a[:]\n",
        "\n",
        "  # T(n) = 2T(n/2) + O(n) = O(n log n)\n",
        "  s[0 : n/2 - 1] = fft(a[0 : n - 2, 2], ω^2) # Even\n",
        "  s'[0 : n/2 - 1] = fft(a[1 : n - 1, 2], ω^2) # Odd\n",
        "\n",
        "  for j = 0 to n/2 - 1:\n",
        "    r[j] = s[j] + ω^j s'[j]\n",
        "    r[j + n/2] = s[j] - ω^j s'[j]\n",
        "\n",
        "  return r[0 : n - 1]\n",
        "</pre>"
      ],
      "metadata": {
        "id": "w-bbeSERMjRx"
      }
    },
    {
      "cell_type": "code",
      "source": [],
      "metadata": {
        "id": "T-dF7pkBL2Vp"
      },
      "execution_count": null,
      "outputs": []
    }
  ]
}