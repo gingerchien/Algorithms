{
  "nbformat": 4,
  "nbformat_minor": 0,
  "metadata": {
    "colab": {
      "provenance": [],
      "authorship_tag": "ABX9TyN+bqh8Uh5Sw0eswY7Su6j5",
      "include_colab_link": true
    },
    "kernelspec": {
      "name": "python3",
      "display_name": "Python 3"
    },
    "language_info": {
      "name": "python"
    }
  },
  "cells": [
    {
      "cell_type": "markdown",
      "metadata": {
        "id": "view-in-github",
        "colab_type": "text"
      },
      "source": [
        "<a href=\"https://colab.research.google.com/github/gingerchien/Algorithms/blob/main/CS6515GradAlgo.ipynb\" target=\"_parent\"><img src=\"https://colab.research.google.com/assets/colab-badge.svg\" alt=\"Open In Colab\"/></a>"
      ]
    },
    {
      "cell_type": "markdown",
      "source": [
        "# **Mergesort**"
      ],
      "metadata": {
        "id": "lILBqYB1gU4G"
      }
    },
    {
      "cell_type": "code",
      "execution_count": 2,
      "metadata": {
        "id": "hYJK1Rm7gST_"
      },
      "outputs": [],
      "source": [
        "def merge_sort(arr):\n",
        "  if len(arr)>1:\n",
        "    #separate\n",
        "    left_arr = arr[:len(arr)//2]\n",
        "    right_arr = arr[len(arr)//2:]\n",
        "\n",
        "    #recursion\n",
        "    merge_sort(left_arr)\n",
        "    merge_sort(right_arr)\n",
        "\n",
        "    #merge\n",
        "    i = 0 #keep track of index of leftmost element in left array\n",
        "    j = 0 #keep track of index of leftmost element in right array\n",
        "    k = 0 #keep track of index of merged array\n",
        "\n",
        "    while i < len(left_arr) and j < len(right_arr): #while index of left element i is less than left array length and index of left element j is less than right array length\n",
        "      if left_arr[i] < right_arr[j]: #\n",
        "        arr[k] = left_arr[i]\n",
        "        i+=1\n",
        "\n",
        "      else:\n",
        "        arr[k] = right_arr[j]\n",
        "        j+=1\n",
        "      k+=1\n",
        "\n",
        "    while i < len(left_arr): #if left array has remaining elements\n",
        "      arr[k] = left_arr[i]\n",
        "      i+=1\n",
        "      k+=1\n",
        "\n",
        "    while j < len(right_arr): #if right array has remaining elements\n",
        "      arr[k] = right_arr[j]\n",
        "      j+=1\n",
        "      k+=1\n",
        "\n",
        "  return arr\n",
        "\n",
        "\n",
        "\n",
        "\n",
        ""
      ]
    },
    {
      "cell_type": "code",
      "source": [
        "arr_test=[2,3,5,1,7,4,4,4,2,6,0]"
      ],
      "metadata": {
        "id": "taFShHYogWH8"
      },
      "execution_count": 3,
      "outputs": []
    },
    {
      "cell_type": "code",
      "source": [
        "merge_sort(arr_test)\n",
        "print(arr_test)"
      ],
      "metadata": {
        "colab": {
          "base_uri": "https://localhost:8080/"
        },
        "id": "ENBZ-j6HgfkJ",
        "outputId": "259768a9-0a6e-4e51-8e9f-c1a8d000f912"
      },
      "execution_count": 5,
      "outputs": [
        {
          "output_type": "stream",
          "name": "stdout",
          "text": [
            "[0, 1, 2, 2, 3, 4, 4, 4, 5, 6, 7]\n"
          ]
        }
      ]
    },
    {
      "cell_type": "code",
      "source": [],
      "metadata": {
        "id": "_HEsYTHjkWS5"
      },
      "execution_count": null,
      "outputs": []
    }
  ]
}